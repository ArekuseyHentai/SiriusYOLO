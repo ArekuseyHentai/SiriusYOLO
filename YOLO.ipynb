{
 "cells": [
  {
   "cell_type": "code",
   "execution_count": null,
   "metadata": {},
   "outputs": [],
   "source": [
    "import cv2\n",
    "import matplotlib.pyplot as plt\n",
    "from modules.utils import *\n",
    "from modules.darknet import Darknet"
   ]
  },
  {
   "cell_type": "code",
   "execution_count": null,
   "metadata": {},
   "outputs": [],
   "source": [
    "cfg_file = './modules/cfg/yolov3.cfg'\n",
    "weight_file = './modules/weights/yolov3.weights'\n",
    "namesfile = './modules/data/coco.names'\n",
    "m = Darknet(cfg_file)\n",
    "m.load_weights(weight_file)\n",
    "class_names = load_class_names(namesfile)"
   ]
  },
  {
   "cell_type": "code",
   "execution_count": null,
   "metadata": {},
   "outputs": [],
   "source": [
    "nms_thresh = 0.6\n",
    "iou_thresh = 0.4"
   ]
  },
  {
   "cell_type": "code",
   "execution_count": null,
   "metadata": {},
   "outputs": [],
   "source": [
    "# Set the default figure size\n",
    "plt.rcParams['figure.figsize'] = [24.0, 14.0]\n",
    "\n",
    "# Load the image\n",
    "webcam = cv2.VideoCapture(0)\n",
    "while True:\n",
    "    (_, img) = webcam.read()\n",
    "    # Convert the image to RGB\n",
    "    original_image = cv2.cvtColor(img, cv2.COLOR_BGR2RGB) \n",
    "    resized_image = cv2.resize(original_image, (m.width, m.height))\n",
    "    iou_thresh = 0.4\n",
    "    nms_thresh = 0.6\n",
    "    boxes = detect_objects(m, resized_image, iou_thresh, nms_thresh)\n",
    "    print(num_of_person(boxes, class_names))\n",
    "    key = cv2.waitKey(10)\n",
    "    if key == 27:\n",
    "        break\n"
   ]
  }
 ],
 "metadata": {
  "kernelspec": {
   "display_name": "Python 3",
   "language": "python",
   "name": "python3"
  },
  "language_info": {
   "codemirror_mode": {
    "name": "ipython",
    "version": 3
   },
   "file_extension": ".py",
   "mimetype": "text/x-python",
   "name": "python",
   "nbconvert_exporter": "python",
   "pygments_lexer": "ipython3",
   "version": "3.12.2"
  }
 },
 "nbformat": 4,
 "nbformat_minor": 2
}
